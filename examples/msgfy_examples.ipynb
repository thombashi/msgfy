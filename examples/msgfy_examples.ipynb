{
 "cells": [
  {
   "cell_type": "code",
   "execution_count": 1,
   "metadata": {},
   "outputs": [],
   "source": [
    "import msgfy"
   ]
  },
  {
   "cell_type": "code",
   "execution_count": 2,
   "metadata": {},
   "outputs": [
    {
     "name": "stdout",
     "output_type": "stream",
     "text": [
      "ValueError: example error message\n"
     ]
    }
   ],
   "source": [
    "def error_message_example():\n",
    "    try:\n",
    "        raise ValueError(\"example error message\")\n",
    "    except ValueError as e:\n",
    "        print(msgfy.to_error_message(e))\n",
    "\n",
    "error_message_example() "
   ]
  },
  {
   "cell_type": "code",
   "execution_count": 3,
   "metadata": {},
   "outputs": [
    {
     "name": "stdout",
     "output_type": "stream",
     "text": [
      "ValueError error_message_format_example: example error message\n"
     ]
    }
   ],
   "source": [
    "def error_message_format_example():\n",
    "    try:\n",
    "        raise ValueError(\"example error message\")\n",
    "    except ValueError as e:\n",
    "        print(msgfy.to_error_message(e, \"{exception} {func_name}: {error_msg}\"))\n",
    "\n",
    "error_message_format_example() "
   ]
  },
  {
   "cell_type": "code",
   "execution_count": 4,
   "metadata": {},
   "outputs": [
    {
     "name": "stdout",
     "output_type": "stream",
     "text": [
      "ValueError <ipython-input-4-bdd569af197b>(5) debug_message_example: example debug message\n"
     ]
    }
   ],
   "source": [
    "def debug_message_example():\n",
    "    try:\n",
    "        raise ValueError(\"example debug message\")\n",
    "    except ValueError as e:\n",
    "        print(msgfy.to_debug_message(e))\n",
    "\n",
    "debug_message_example() "
   ]
  }
 ],
 "metadata": {
  "kernelspec": {
   "display_name": "Python 3",
   "language": "python",
   "name": "python3"
  },
  "language_info": {
   "codemirror_mode": {
    "name": "ipython",
    "version": 3
   },
   "file_extension": ".py",
   "mimetype": "text/x-python",
   "name": "python",
   "nbconvert_exporter": "python",
   "pygments_lexer": "ipython3",
   "version": "3.6.5"
  }
 },
 "nbformat": 4,
 "nbformat_minor": 2
}
